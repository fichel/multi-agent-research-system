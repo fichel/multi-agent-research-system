{
 "cells": [
  {
   "cell_type": "markdown",
   "metadata": {},
   "source": [
    "# Multi-Agent Research System\n",
    "\n",
    "## Overview\n",
    "\n",
    "This notebook demonstrates a multi-agent research system that uses OpenAI's agents to perform research along the lines of Anthropicls blog post [How we built our multi-agent research system](https://www.anthropic.com/engineering/built-multi-agent-research-system)."
   ]
  },
  {
   "cell_type": "code",
   "execution_count": 14,
   "metadata": {},
   "outputs": [],
   "source": [
    "# import libraries\n",
    "from dotenv import load_dotenv\n",
    "from pydantic import BaseModel, Field\n",
    "from agents import Agent, Runner, trace, function_tool"
   ]
  },
  {
   "cell_type": "code",
   "execution_count": 15,
   "metadata": {},
   "outputs": [
    {
     "data": {
      "text/plain": [
       "True"
      ]
     },
     "execution_count": 15,
     "metadata": {},
     "output_type": "execute_result"
    }
   ],
   "source": [
    "# load environment variables\n",
    "load_dotenv(override=True)"
   ]
  },
  {
   "cell_type": "markdown",
   "metadata": {},
   "source": [
    "## Lead Researcher Agent\n",
    "\n",
    "The Lead Researcher Agent is responsible for:\n",
    "\n",
    "- Creating a research plan and saving it to memory\n",
    "- Creating N specialized sub-agents with specific research tasks\n",
    "- Synthesizing the results from the sub-agents into a final report format\n",
    "- Evaluate if more research is needed to answer the research question\n",
    "- Passing the final report to the Citations Agent"
   ]
  },
  {
   "cell_type": "code",
   "execution_count": 16,
   "metadata": {},
   "outputs": [],
   "source": [
    "# create the data model for the output\n",
    "\n",
    "\n",
    "class WebSearchItem(BaseModel):\n",
    "    \"\"\"A single item to be searched on the web.\"\"\"\n",
    "\n",
    "    query: str = Field(description=\"The query to search the web for\")\n",
    "    reason: str = Field(description=\"The reason for the query\")\n",
    "\n",
    "\n",
    "class WebSearchPlan(BaseModel):\n",
    "    \"\"\"A plan for searching the web.\"\"\"\n",
    "\n",
    "    items: list[WebSearchItem]\n",
    "\n",
    "\n",
    "class ResearchPlan(BaseModel):\n",
    "    \"\"\"A plan for the research.\"\"\"\n",
    "\n",
    "    research_plan: str = Field(\n",
    "        description=\"The research plan, including the steps to be taken to achieve the goal\"\n",
    "    )\n",
    "    number_of_sub_agents: int = Field(\n",
    "        description=\"The number of sub-agents to be spawned for the research\"\n",
    "    )\n",
    "    web_search_plan: WebSearchPlan = Field(description=\"The plan for searching the web\")\n",
    "\n",
    "\n",
    "class ResearchOutput(BaseModel):\n",
    "    \"\"\"The output of the research system.\"\"\"\n",
    "\n",
    "    goal: str = Field(description=\"The goal of the research\")\n",
    "    research_plan: ResearchPlan = Field(description=\"The research plan\")\n",
    "    report_summary: str = Field(description=\"A summary of the report to be generated\")\n",
    "    final_report: str = Field(\n",
    "        description=\"The final report, including the results of each subagent synthesized accoring to the research plan\"\n",
    "    )"
   ]
  },
  {
   "cell_type": "code",
   "execution_count": 19,
   "metadata": {},
   "outputs": [],
   "source": [
    "# create the tools for the lead researcher agent\n",
    "\n",
    "goal = \"\"\"What are the companies in the United States working on A.I. agents in 2025? \n",
    "Make a list of at least 100. For each company, include the name, website, product, \n",
    "description of what they do, type of agents they build, and their vertical/industry.\"\"\"\n",
    "\n",
    "planner_instructions = f\"\"\"\n",
    "You are a research planner agent. Your task is to generate a comprehensive research plan to achieve the following goal:\n",
    "\n",
    "**Goal:** {goal}\n",
    "\n",
    "Your plan must include:\n",
    "\n",
    "1. **Search Strategy**  \n",
    "   - Describe the overall approach to answering the goal, including which sources, tools, or databases to use.\n",
    "   - Identify key search terms, sub-questions, or specific aspects to investigate.\n",
    "\n",
    "2. **What to Search For**  \n",
    "   - List the types of information, evidence, or resources needed, with a brief explanation for each.\n",
    "\n",
    "3. **How Many to Search For**\n",
    "   - You must decide how many items to search for, and why that number is sufficient.\n",
    "   - For each type of information, specify the search terms and the reason for that search term.\n",
    "\n",
    "4. **Step-by-Step Plan**  \n",
    "   - Outline the sequence of steps to follow.\n",
    "\n",
    "Please format your output using this template:\n",
    "\n",
    "---\n",
    "### 1. Search Strategy\n",
    "- Approach: \n",
    "- Key Terms & Sub-questions: \n",
    "\n",
    "### 2. What to Search For\n",
    "- Resource 1: (what and why)\n",
    "- Resource 2: (what and why)\n",
    "- ...\n",
    "\n",
    "### 3. How Many to Search For\n",
    "- Item 1: (search term and reason)\n",
    "- Item 2: (search term and reason)\n",
    "- ...\n",
    "\n",
    "### 4. Step-by-Step Plan\n",
    "1. (description)\n",
    "2. (description)\n",
    "3. ...\n",
    "\n",
    "---\n",
    "\n",
    "Do not perform the research—only provide the plan.\n",
    "\"\"\"\n",
    "\n",
    "planner_agent = Agent(\n",
    "    name=\"Planner Agent\",\n",
    "    instructions=planner_instructions,\n",
    "    output_type=ResearchPlan,\n",
    "    model=\"o3\",\n",
    ")"
   ]
  },
  {
   "cell_type": "code",
   "execution_count": 20,
   "metadata": {},
   "outputs": [
    {
     "name": "stdout",
     "output_type": "stream",
     "text": [
      "research_plan='---\\n### 1. Search Strategy\\n- Approach:\\n  Combine broad web search, startup/VC databases, technology news outlets, social media, and conference/summit speaker lists to compile an over-sized long-list (≈150+) of U.S. companies declaring work on “AI agents” or closely related terms (autonomous agents, AI copilots, agentic workflow, LLM agents, multi-agent systems) in 2024-2025. Then filter to at least 100 unique firms, extract required metadata from official websites, press kits, Crunchbase, LinkedIn, product docs, and reviews.  Use four specialized sub-agents: (1) Discovery, (2) Verification & Fact-gathering, (3) Data Structuring, (4) QA & Gap-fill.\\n- Key Terms & Sub-questions:\\n  • Core terms: “AI agent startup”, “autonomous agent platform”, “LLM agents company”, “AI copilot SaaS”, “multi-agent systems company”, “agentic AI”.\\n  • Vertical variants: add keywords like customer service, devtools, cybersecurity, healthcare, finance, marketing, e-commerce, robotics, legal, HR, sales, data, IoT.\\n  • Sub-questions: Who raised funding for agentic AI in 2024-25? Which products market themselves as copilots/agents? What industry/vertical do they target? What specific agent type (chatbot, workflow, security, robotic, personal, developer, etc.)?\\n\\n### 2. What to Search For\\n- Resource 1: TechCrunch, VentureBeat, Forbes, Business Insider articles that list or profile AI-agent startups (to quickly surface names and funding context).\\n- Resource 2: Crunchbase / PitchBook filters for U.S. companies tagged \"Generative AI\", \"Autonomous Agents\", or products containing “agent”. Gives company basics and website.\\n- Resource 3: GitHub trending & Hacker News posts mentioning new agent frameworks/companies (captures early-stage or stealth companies with open-source footprints).\\n- Resource 4: Conference/summit speaker lists (e.g., Agents Summit, NeurIPS, AWS re:Invent generative AI track) to capture companies self-identifying with agent tech.\\n- Resource 5: Company press releases & blogs (for product names, descriptions, vertical positioning, type of agent built).\\n- Resource 6: LinkedIn company pages (for headcount, industry tags, concise descriptions).\\n\\n### 3. How Many to Search For\\n- Company discovery: Target ≈150 candidates to ensure ≥100 after de-duplication and relevance check.\\n- News articles: At least 40 unique 2024-25 articles using terms “AI agent startup” OR “autonomous agent company” (ensures breadth across verticals).\\n- VC database queries: 3 focused searches — “Autonomous Agents”, “AI Copilot”, “Generative AI + Workflow Automation” — expected to yield 200–300 rows; filter to U.S.\\n- GitHub/HN scans: Top 30 projects tagged agentic/LLM agents — surfaces open-source backed firms.\\n- Conference lists: 5 major 2024-25 AI events; extract every U.S. company speaker claiming agent technology.\\n\\nExample search terms & reasons:\\n1. \"\"AI agent startup funding 2025\"\" – captures newest entrants raising capital.\\n2. \"\"autonomous agent platform for developers\"\" – surfaces dev-tool vertical.\\n3. \"\"LLM agent healthcare\"\" – vertical slice.\\n4. \"\"agentic workflows fintech\"\" – niche use-case.\\n5. \"\"Agents Summit 2025 speakers\"\" – conference source.\\n\\n### 4. Step-by-Step Plan\\n1. Discovery Sub-agent: Run broad web and news searches with master list of core terms + vertical variants; dump candidate company names & URLs into a spreadsheet.\\n2. VC Database Query: Use Crunchbase/PitchBook filters; export U.S. companies founded ≤2025 with relevant tags; merge into spreadsheet.\\n3. Open-source & Community Scan: Scrape GitHub repos and HN posts containing “agent” + “AI” + “company” to capture OSS-rooted firms.\\n4. Conference & Award List Mining: Collect company names from 2024-25 agent-themed conference agendas and AI awards.\\n5. De-duplicate & Relevance Check: Remove non-U.S. or non-agent companies; aim for ≥150 raw list.\\n6. Verification Sub-agent: Visit each company site/LinkedIn/press kit; record product name, description, vertical, agent type.\\n7. Data Structuring Sub-agent: Normalize fields (Name, Website, Product, Description, Agent Type, Vertical/Industry).\\n8. QA & Gap-fill Sub-agent: Cross-verify missing fields via secondary searches; ensure final list has ≥100 fully populated entries.\\n9. Prepare final report/table for user.\\n---' number_of_sub_agents=4 web_search_plan=WebSearchPlan(items=[WebSearchItem(query='\"AI agent startup\" 2025 funding United States', reason='Find recent U.S. startups branding themselves around AI agents and raising funds.'), WebSearchItem(query='\"autonomous agent platform\" company site:.ai OR site:.com', reason='Locate platforms explicitly marketing autonomous agents.'), WebSearchItem(query='\"AI copilot\" SaaS platform US', reason='Many agent companies position as copilots; captures relevant verticals.'), WebSearchItem(query='\"LLM agents\" healthcare startup', reason='Surface healthcare-specific agent companies.'), WebSearchItem(query='\"multi-agent\" cybersecurity company United States', reason='Find cybersecurity agent startups.'), WebSearchItem(query='\"Agents Summit\" 2025 speakers list', reason='Conference rosters give authoritative list of agent-focused companies.'), WebSearchItem(query='site:crunchbase.com \"autonomous agents\" US companies', reason='Directly query Crunchbase for tagged companies.'), WebSearchItem(query='\"generative ai\" workflow automation startup 2024', reason='Many agent firms are framed as workflow automation using gen-AI.'), WebSearchItem(query='\"open-source\" agent framework backed by company', reason='Identify companies commercializing open-source agent frameworks.'), WebSearchItem(query='\"AI agent\" conference award winners 2024', reason='Awards can highlight credible agent companies.')])\n"
     ]
    }
   ],
   "source": [
    "with trace(\"Multi-Agent Research System\"):\n",
    "    result = await Runner.run(planner_agent, goal)\n",
    "\n",
    "print(result.final_output)"
   ]
  },
  {
   "cell_type": "code",
   "execution_count": null,
   "metadata": {},
   "outputs": [],
   "source": []
  }
 ],
 "metadata": {
  "kernelspec": {
   "display_name": ".venv",
   "language": "python",
   "name": "python3"
  },
  "language_info": {
   "codemirror_mode": {
    "name": "ipython",
    "version": 3
   },
   "file_extension": ".py",
   "mimetype": "text/x-python",
   "name": "python",
   "nbconvert_exporter": "python",
   "pygments_lexer": "ipython3",
   "version": "3.12.6"
  }
 },
 "nbformat": 4,
 "nbformat_minor": 2
}
